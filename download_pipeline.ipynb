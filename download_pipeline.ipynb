{
  "cells": [
    {
      "cell_type": "markdown",
      "metadata": {
        "id": "9OcRXH1y0tkq"
      },
      "source": [
        "## Pipeline for downloading any number of last available pairs of audio and chat of streams"
      ]
    },
    {
      "cell_type": "code",
      "execution_count": null,
      "metadata": {
        "colab": {
          "base_uri": "https://localhost:8080/"
        },
        "id": "fdjXTUCVu5G6",
        "outputId": "6ad0d6b5-7017-4fee-acca-57329a53215c"
      },
      "outputs": [],
      "source": [
        "streamer_name = \"rostislav_999\"  # Replace with the streamer's name\n",
        "num_streams_to_download = 10     # Number of most recent streams to download\n",
        "client_id = \"your-client-id\"     # Your Twitch API client ID\n",
        "quality = \"720p60\"               # Preferred video quality"
      ]
    },
    {
      "cell_type": "markdown",
      "metadata": {},
      "source": [
        "### Install necessary libraries"
      ]
    },
    {
      "cell_type": "code",
      "execution_count": null,
      "metadata": {
        "colab": {
          "base_uri": "https://localhost:8080/"
        },
        "id": "nAwKKRFhy26N",
        "outputId": "5b0b710b-1429-4979-8e22-e7a2379062e0"
      },
      "outputs": [],
      "source": [
        "!apt-get update && sudo apt-get install -y ffmpeg  # Install ffmpeg\n",
        "!pip3 install tdh-tcd  # Install the tdh-tcd library for downloading Twitch chat"
      ]
    },
    {
      "cell_type": "code",
      "execution_count": null,
      "metadata": {},
      "outputs": [],
      "source": [
        "import os\n",
        "if not os.path.exists(\"twitch-dl.2.11.0.pyz\"):\n",
        "    print(\"Downloading twitch-dl...\")\n",
        "    !wget https://github.com/ihabunek/twitch-dl/releases/download/2.11.0/twitch-dl.2.11.0.pyz"
      ]
    },
    {
      "cell_type": "markdown",
      "metadata": {},
      "source": [
        "### Get list of recent VODs for the streamer"
      ]
    },
    {
      "cell_type": "code",
      "execution_count": null,
      "metadata": {},
      "outputs": [],
      "source": [
        "!python3 twitch-dl.2.11.0.pyz videos {streamer_name} --limit {num_streams_to_download} > vods.txt"
      ]
    },
    {
      "cell_type": "code",
      "execution_count": null,
      "metadata": {},
      "outputs": [],
      "source": [
        "with open(\"vods.txt\", \"r\") as f:\n",
        "    lines = f.readlines()\n",
        "\n",
        "vod_ids = []\n",
        "for line in lines:\n",
        "    if line.startswith(\"https://www.twitch.tv/videos/\"):\n",
        "        vod_id = line.strip().split(\"/\")[-1]\n",
        "        vod_ids.append(vod_id)\n",
        "\n",
        "print(f\"Found {len(vod_ids)} VODs to download\")"
      ]
    },
    {
      "cell_type": "markdown",
      "metadata": {},
      "source": [
        "### Process each VOD"
      ]
    },
    {
      "cell_type": "code",
      "execution_count": null,
      "metadata": {},
      "outputs": [],
      "source": [
        "for vod_id in vod_ids:\n",
        "    print(f\"\\nProcessing VOD {vod_id}\")\n",
        "\n",
        "    # Download the Twitch video\n",
        "    print(\"Downloading video...\")\n",
        "    !python3 twitch-dl.2.11.0.pyz download https://www.twitch.tv/videos/{vod_id} --output \"{vod_id}.mkv\" --quality \"{quality}\"\n",
        "\n",
        "    # Extract audio if needed\n",
        "    # print(\"Extracting audio...\")\n",
        "    # !ffmpeg -i {vod_id}.mkv -vn -acodec pcm_s16le {vod_id}.wav\n",
        "\n",
        "    # Download chat\n",
        "    print(\"Downloading chat...\")\n",
        "    !python3 -m tcd {vod_id} --client-id \"{client_id}\"\n",
        "\n",
        "    # Convert to jpg if needed\n",
        "    # nth_frame = 30\n",
        "    # output_folder = f\"{vod_id}_frames\"\n",
        "    # os.makedirs(output_folder, exist_ok=True)\n",
        "    # os.system(f\"ffmpeg -i {vod_id}.mkv -vf \\\"select='not(mod(n,{nth_frame}))'\\\" -vsync 0 {output_folder}/ frame_%05d.jpg\")\n",
        "\n",
        "    # Remove the .mkv file\n",
        "    # print(\"Cleaning up...\")\n",
        "    # !rm {vod_id}.mkv\n",
        "\n",
        "    # print(f\"Finished processing VOD {vod_id}\")\n",
        "\n",
        "print(\"\\nAll downloads completed!\")"
      ]
    }
  ],
  "metadata": {
    "colab": {
      "provenance": []
    },
    "kernelspec": {
      "display_name": "Python 3",
      "name": "python3"
    },
    "language_info": {
      "name": "python"
    }
  },
  "nbformat": 4,
  "nbformat_minor": 0
}
