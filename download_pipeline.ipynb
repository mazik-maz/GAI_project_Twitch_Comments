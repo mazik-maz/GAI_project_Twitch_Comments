{
  "nbformat": 4,
  "nbformat_minor": 0,
  "metadata": {
    "colab": {
      "provenance": []
    },
    "kernelspec": {
      "name": "python3",
      "display_name": "Python 3"
    },
    "language_info": {
      "name": "python"
    }
  },
  "cells": [
    {
      "cell_type": "markdown",
      "source": [
        "## Example for 2402149878 video the link is https://www.twitch.tv/videos/2402149878\n",
        "\n",
        "The requirement is to download twitch-dl.2.11.0.pyz from https://github.com/ihabunek/twitch-dl/releases/tag/2.11.0"
      ],
      "metadata": {
        "id": "9OcRXH1y0tkq"
      }
    },
    {
      "cell_type": "code",
      "execution_count": 25,
      "metadata": {
        "colab": {
          "base_uri": "https://localhost:8080/"
        },
        "id": "fdjXTUCVu5G6",
        "outputId": "6ad0d6b5-7017-4fee-acca-57329a53215c"
      },
      "outputs": [
        {
          "output_type": "stream",
          "name": "stdout",
          "text": [
            "Requirement already satisfied: tdh-tcd in /usr/local/lib/python3.11/dist-packages (2.5.4)\n",
            "Requirement already satisfied: requests in /usr/local/lib/python3.11/dist-packages (from tdh-tcd) (2.32.3)\n",
            "Requirement already satisfied: progressbar2 in /usr/local/lib/python3.11/dist-packages (from tdh-tcd) (4.5.0)\n",
            "Requirement already satisfied: iso8601 in /usr/local/lib/python3.11/dist-packages (from tdh-tcd) (2.1.0)\n",
            "Requirement already satisfied: python-utils>=3.8.1 in /usr/local/lib/python3.11/dist-packages (from progressbar2->tdh-tcd) (3.9.1)\n",
            "Requirement already satisfied: charset-normalizer<4,>=2 in /usr/local/lib/python3.11/dist-packages (from requests->tdh-tcd) (3.4.1)\n",
            "Requirement already satisfied: idna<4,>=2.5 in /usr/local/lib/python3.11/dist-packages (from requests->tdh-tcd) (3.10)\n",
            "Requirement already satisfied: urllib3<3,>=1.21.1 in /usr/local/lib/python3.11/dist-packages (from requests->tdh-tcd) (2.3.0)\n",
            "Requirement already satisfied: certifi>=2017.4.17 in /usr/local/lib/python3.11/dist-packages (from requests->tdh-tcd) (2025.1.31)\n",
            "Requirement already satisfied: typing_extensions>3.10.0.2 in /usr/local/lib/python3.11/dist-packages (from python-utils>=3.8.1->progressbar2->tdh-tcd) (4.12.2)\n"
          ]
        }
      ],
      "source": [
        "# Install necessary libraries\n",
        "!pip3 install tdh-tcd  # Install the tdh-tcd library for downloading Twitch chat"
      ]
    },
    {
      "cell_type": "code",
      "source": [
        "# Download the Twitch video using twitch-dl\n",
        "!python3 twitch-dl.2.11.0.pyz download https://www.twitch.tv/videos/2402149878 --output \"2402149878.mkv\" --quality \"Audio Only\""
      ],
      "metadata": {
        "colab": {
          "base_uri": "https://localhost:8080/"
        },
        "id": "nAwKKRFhy26N",
        "outputId": "5b0b710b-1429-4979-8e22-e7a2379062e0"
      },
      "execution_count": 28,
      "outputs": [
        {
          "output_type": "stream",
          "name": "stdout",
          "text": [
            "\u001b[2mLooking up video...\u001b[0m\u001b[0m\n",
            "\u001b[2mFound video:\u001b[0m \u001b[2m\u001b[32mMONDAY MONDAY | NO TILT DAY 24 | !qna !2nd !vods 😱 😳 🔴\u001b[0m\u001b[0m \u001b[2mby\u001b[0m \u001b[2m\u001b[33mdorozea\u001b[0m\u001b[0m \u001b[2mplaying\u001b[0m \u001b[2m\u001b[34mJust Chatting\u001b[0m\u001b[0m \u001b[2m(05:05:00)\u001b[0m\u001b[0m\n",
            "\u001b[2mTarget: \u001b[34m2402149878.mkv\u001b[0m\u001b[0m\u001b[0m\n",
            "\u001b[2mFetching chapters...\u001b[0m\u001b[0m\n",
            "\u001b[2mFetching access token...\u001b[0m\u001b[0m\n",
            "\u001b[2mFetching playlists...\u001b[0m\u001b[0m\n",
            "\u001b[2mFetching playlist...\u001b[0m\u001b[0m\n",
            "\u001b[2mDownloading to cache: /root/.cache/twitch-dl/videos/2402149878/audio_only\u001b[0m\u001b[0m\n",
            "\u001b[2mDownloading 1830 VODs using 10 workers\u001b[0m\u001b[0m\n",
            "Downloaded 1829/1830 VODs\u001b[34m 99%\u001b[0m of \u001b[34m~474.4MB\u001b[0m at \u001b[34m5.9MB/s\u001b[0m ETA \u001b[34m00:00\u001b[0m\n",
            "\u001b[2mJoining files...\u001b[0m\u001b[0m\n",
            "\u001b[2mffmpeg -i /root/.cache/twitch-dl/videos/2402149878/audio_only/playlist_downloaded.m3u8 -i /root/.cache/twitch-dl/videos/2402149878/audio_only/metadata.txt -map_metadata 1 -c copy -stats -loglevel warning file:2402149878.mkv\u001b[0m\n",
            "size=  368597kB time=05:05:00.01 bitrate= 165.0kbits/s speed=1.94e+03x    \n",
            "\n",
            "\u001b[2mDeleting cached files...\u001b[0m\u001b[0m\n",
            "Downloaded: \u001b[32m2402149878.mkv\u001b[0m\n"
          ]
        }
      ]
    },
    {
      "cell_type": "code",
      "source": [
        "# Extract audio from the downloaded .mkv file using ffmpeg\n",
        "# -i specifies the input file, -vn disables video, -acodec specifies the audio codec\n",
        "!ffmpeg -i 2402149878.mkv -vn -acodec pcm_s16le 2402149878.wav"
      ],
      "metadata": {
        "colab": {
          "base_uri": "https://localhost:8080/"
        },
        "id": "O64SG7euy9Ev",
        "outputId": "563349eb-cb71-4cd3-8abf-3deec6f96e2d"
      },
      "execution_count": 29,
      "outputs": [
        {
          "output_type": "stream",
          "name": "stdout",
          "text": [
            "ffmpeg version 4.4.2-0ubuntu0.22.04.1 Copyright (c) 2000-2021 the FFmpeg developers\n",
            "  built with gcc 11 (Ubuntu 11.2.0-19ubuntu1)\n",
            "  configuration: --prefix=/usr --extra-version=0ubuntu0.22.04.1 --toolchain=hardened --libdir=/usr/lib/x86_64-linux-gnu --incdir=/usr/include/x86_64-linux-gnu --arch=amd64 --enable-gpl --disable-stripping --enable-gnutls --enable-ladspa --enable-libaom --enable-libass --enable-libbluray --enable-libbs2b --enable-libcaca --enable-libcdio --enable-libcodec2 --enable-libdav1d --enable-libflite --enable-libfontconfig --enable-libfreetype --enable-libfribidi --enable-libgme --enable-libgsm --enable-libjack --enable-libmp3lame --enable-libmysofa --enable-libopenjpeg --enable-libopenmpt --enable-libopus --enable-libpulse --enable-librabbitmq --enable-librubberband --enable-libshine --enable-libsnappy --enable-libsoxr --enable-libspeex --enable-libsrt --enable-libssh --enable-libtheora --enable-libtwolame --enable-libvidstab --enable-libvorbis --enable-libvpx --enable-libwebp --enable-libx265 --enable-libxml2 --enable-libxvid --enable-libzimg --enable-libzmq --enable-libzvbi --enable-lv2 --enable-omx --enable-openal --enable-opencl --enable-opengl --enable-sdl2 --enable-pocketsphinx --enable-librsvg --enable-libmfx --enable-libdc1394 --enable-libdrm --enable-libiec61883 --enable-chromaprint --enable-frei0r --enable-libx264 --enable-shared\n",
            "  libavutil      56. 70.100 / 56. 70.100\n",
            "  libavcodec     58.134.100 / 58.134.100\n",
            "  libavformat    58. 76.100 / 58. 76.100\n",
            "  libavdevice    58. 13.100 / 58. 13.100\n",
            "  libavfilter     7.110.100 /  7.110.100\n",
            "  libswscale      5.  9.100 /  5.  9.100\n",
            "  libswresample   3.  9.100 /  3.  9.100\n",
            "  libpostproc    55.  9.100 / 55.  9.100\n",
            "Input #0, matroska,webm, from '2402149878.mkv':\n",
            "  Metadata:\n",
            "    title           : MONDAY MONDAY | NO TILT DAY 24 | !qna !2nd !vods 😱 😳 🔴\n",
            "    ENCODED_BY      : twitch-dl\n",
            "    DATE            : 2025-03-10\n",
            "    ARTIST          : dorozea\n",
            "    SHOW            : Just Chatting\n",
            "    ENCODER         : Lavf58.76.100\n",
            "  Duration: 05:05:00.03, start: 0.000000, bitrate: 165 kb/s\n",
            "  Chapters:\n",
            "    Chapter #0:0: start 0.000000, end 931.000000\n",
            "      Metadata:\n",
            "        title           : Just Chatting\n",
            "    Chapter #0:1: start 931.000000, end 5279.000000\n",
            "      Metadata:\n",
            "        title           : League of Legends\n",
            "    Chapter #0:2: start 5279.000000, end 18184.000000\n",
            "      Metadata:\n",
            "        title           : Cyberpunk 2077\n",
            "    Chapter #0:3: start 18184.000000, end 18300.000000\n",
            "      Metadata:\n",
            "        title           : Just Chatting\n",
            "  Stream #0:0: Audio: aac (LC), 48000 Hz, stereo, fltp (default)\n",
            "    Metadata:\n",
            "      VARIANT_BITRATE : 0\n",
            "      DURATION        : 05:05:00.032000000\n",
            "Stream mapping:\n",
            "  Stream #0:0 -> #0:0 (aac (native) -> pcm_s16le (native))\n",
            "Press [q] to stop, [?] for help\n",
            "Output #0, wav, to '2402149878.wav':\n",
            "  Metadata:\n",
            "    INAM            : MONDAY MONDAY | NO TILT DAY 24 | !qna !2nd !vods 😱 😳 🔴\n",
            "    ITCH            : twitch-dl\n",
            "    ICRD            : 2025-03-10\n",
            "    IART            : dorozea\n",
            "    SHOW            : Just Chatting\n",
            "    ISFT            : Lavf58.76.100\n",
            "  Chapters:\n",
            "    Chapter #0:0: start 0.000000, end 931.000000\n",
            "      Metadata:\n",
            "        title           : Just Chatting\n",
            "    Chapter #0:1: start 931.000000, end 5279.000000\n",
            "      Metadata:\n",
            "        title           : League of Legends\n",
            "    Chapter #0:2: start 5279.000000, end 18184.000000\n",
            "      Metadata:\n",
            "        title           : Cyberpunk 2077\n",
            "    Chapter #0:3: start 18184.000000, end 18300.000000\n",
            "      Metadata:\n",
            "        title           : Just Chatting\n",
            "  Stream #0:0: Audio: pcm_s16le ([1][0][0][0] / 0x0001), 48000 Hz, stereo, s16, 1536 kb/s (default)\n",
            "    Metadata:\n",
            "      VARIANT_BITRATE : 0\n",
            "      DURATION        : 05:05:00.032000000\n",
            "      encoder         : Lavc58.134.100 pcm_s16le\n",
            "size= 3431256kB time=05:05:00.01 bitrate=1536.0kbits/s speed= 470x    \n",
            "video:0kB audio:3431256kB subtitle:0kB other streams:0kB global headers:0kB muxing overhead: 0.000006%\n"
          ]
        }
      ]
    },
    {
      "cell_type": "code",
      "source": [
        "# Download the chat using the tdh-tcd library\n",
        "# Replace the client-id with your Twitch API client ID\n",
        "!python3 -m tcd 2402149878 --client-id \"YOUR-CLIENT-ID\""
      ],
      "metadata": {
        "colab": {
          "base_uri": "https://localhost:8080/"
        },
        "id": "Yb7zdAvFy9Kj",
        "outputId": "eb96ef34-8fef-4e97-9c41-0a9789f6420e"
      },
      "execution_count": 30,
      "outputs": [
        {
          "output_type": "stream",
          "name": "stdout",
          "text": [
            "\u001b[38;2;255;0;0m  0%\u001b[39m \u001b[38;2;255;0;0m(0 of 18300)\u001b[39m |                                          | Elapsed Time: 0:00:00 ETA:  --:--:--WARN: Cursors are not working, falling back to content offset\n",
            "\u001b[38;2;0;255;0m100%\u001b[39m \u001b[38;2;0;255;0m(18300 of 18300)\u001b[39m |######################################| Elapsed Time: 0:00:36 ETA:  00:00:00"
          ]
        }
      ]
    },
    {
      "cell_type": "code",
      "source": [
        "# Remove the .mkv file to save space\n",
        "!rm 2402149878.mkv"
      ],
      "metadata": {
        "id": "7Qm0oykFv6R_"
      },
      "execution_count": 31,
      "outputs": []
    }
  ]
}
